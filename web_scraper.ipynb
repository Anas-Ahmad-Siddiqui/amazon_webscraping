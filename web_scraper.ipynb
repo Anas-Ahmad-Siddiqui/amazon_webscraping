{
  "nbformat": 4,
  "nbformat_minor": 0,
  "metadata": {
    "colab": {
      "name": "web_scraper.ipynb",
      "provenance": [],
      "collapsed_sections": [],
      "authorship_tag": "ABX9TyOwTdxitMg1mcmQKWRqanUS",
      "include_colab_link": true
    },
    "kernelspec": {
      "name": "python3",
      "display_name": "Python 3"
    },
    "language_info": {
      "name": "python"
    }
  },
  "cells": [
    {
      "cell_type": "markdown",
      "metadata": {
        "id": "view-in-github",
        "colab_type": "text"
      },
      "source": [
        "<a href=\"https://colab.research.google.com/github/Anas-Ahmad-Siddiqui/amazon_webscraping/blob/main/web_scraper.ipynb\" target=\"_parent\"><img src=\"https://colab.research.google.com/assets/colab-badge.svg\" alt=\"Open In Colab\"/></a>"
      ]
    },
    {
      "cell_type": "code",
      "source": [
        "from google.colab import drive\n",
        "drive.mount('/content/gdrive')"
      ],
      "metadata": {
        "colab": {
          "base_uri": "https://localhost:8080/"
        },
        "id": "PNiSaWmVDD8Q",
        "outputId": "1b422ec5-f35f-4a54-a75b-807d42d71462"
      },
      "execution_count": 48,
      "outputs": [
        {
          "output_type": "stream",
          "name": "stdout",
          "text": [
            "Mounted at /content/gdrive\n"
          ]
        }
      ]
    },
    {
      "cell_type": "code",
      "source": [
        "%cd /content/gdrive/My Drive/"
      ],
      "metadata": {
        "colab": {
          "base_uri": "https://localhost:8080/"
        },
        "id": "SVP4fnqFDGq4",
        "outputId": "37b98c5b-1872-4e6a-ec19-82f5ec72a554"
      },
      "execution_count": 49,
      "outputs": [
        {
          "output_type": "stream",
          "name": "stdout",
          "text": [
            "/content/gdrive/My Drive\n"
          ]
        }
      ]
    },
    {
      "cell_type": "code",
      "source": [
        "!mkdir amazon_scraper\n",
        "%cd amazon_scraper"
      ],
      "metadata": {
        "colab": {
          "base_uri": "https://localhost:8080/"
        },
        "id": "8JPOhlJmDJ2_",
        "outputId": "1d39b151-860c-4135-c612-4bf08b3b983c"
      },
      "execution_count": 50,
      "outputs": [
        {
          "output_type": "stream",
          "name": "stdout",
          "text": [
            "mkdir: cannot create directory ‘amazon_scraper’: File exists\n",
            "/content/gdrive/My Drive/amazon_scraper\n"
          ]
        }
      ]
    },
    {
      "cell_type": "code",
      "source": [
        "from google.colab import files\n",
        "uploaded = files.upload()"
      ],
      "metadata": {
        "colab": {
          "resources": {
            "http://localhost:8080/nbextensions/google.colab/files.js": {
              "data": "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",
              "ok": true,
              "headers": [
                [
                  "content-type",
                  "application/javascript"
                ]
              ],
              "status": 200,
              "status_text": ""
            }
          },
          "base_uri": "https://localhost:8080/",
          "height": 39
        },
        "id": "MQK6jpyIDKf3",
        "outputId": "160a1aca-8e07-4bd5-99c2-cb975075464a"
      },
      "execution_count": 51,
      "outputs": [
        {
          "output_type": "display_data",
          "data": {
            "text/plain": [
              "<IPython.core.display.HTML object>"
            ],
            "text/html": [
              "\n",
              "     <input type=\"file\" id=\"files-ff8c71a0-a732-4556-90bf-56f8d5bd230d\" name=\"files[]\" multiple disabled\n",
              "        style=\"border:none\" />\n",
              "     <output id=\"result-ff8c71a0-a732-4556-90bf-56f8d5bd230d\">\n",
              "      Upload widget is only available when the cell has been executed in the\n",
              "      current browser session. Please rerun this cell to enable.\n",
              "      </output>\n",
              "      <script src=\"/nbextensions/google.colab/files.js\"></script> "
            ]
          },
          "metadata": {}
        }
      ]
    },
    {
      "cell_type": "code",
      "source": [
        "%pip install psycopg2 -binaries"
      ],
      "metadata": {
        "colab": {
          "base_uri": "https://localhost:8080/"
        },
        "id": "A-lE5-LlDMF2",
        "outputId": "367389c6-aac7-48ed-f1b3-2bbeb27286b3"
      },
      "execution_count": 52,
      "outputs": [
        {
          "output_type": "stream",
          "name": "stdout",
          "text": [
            "Requirement already satisfied: psycopg2 in /usr/local/lib/python3.7/dist-packages (2.7.6.1)\n"
          ]
        }
      ]
    },
    {
      "cell_type": "code",
      "source": [
        "from bs4 import BeautifulSoup\n",
        "import requests\n",
        "import pandas as pd\n",
        "import os\n",
        "import sys\n",
        "import json\n",
        "import psycopg2\n",
        "import time\n",
        "\n",
        "\"\"\"\n",
        "Database hosted on ElephantSQL\n",
        "Database Information\n",
        "Table Name : moisture_level\n",
        "Columns : time, moisture \n",
        "\"\"\"\n",
        "start = time.time()             # starting time\n",
        "\n",
        "# establishing the connection\n",
        "conn = psycopg2.connect(database=\"kqcryzlv\", user='kqcryzlv', password='q7j_jhYG0vq9PeTwLKDMUqBSHdvek0Y_', host='tai.db.elephantsql.com', port='5432')\n",
        "# Creating a cursor object using the cursor() method\n",
        "cursor = conn.cursor()\n",
        "\n",
        "list = []\n",
        "\n",
        "\n",
        "def get_title(soup):\n",
        "    try:\n",
        "        title = soup.find(\"span\", attrs={\"id\": 'productTitle'})\n",
        "        title_value = title.string\n",
        "        title_string = title_value.strip().replace(',', '')\n",
        "    except AttributeError:\n",
        "        return False\n",
        "    return title_string\n",
        "\n",
        "\n",
        "def get_price(soup):\n",
        "    try:\n",
        "        price = soup.find(\"span\", attrs={'class': 'a-offscreen'}).string.strip()\n",
        "    except AttributeError:\n",
        "        price = \"\"\n",
        "    if(price == \"(0%)\" or price == \"0% (0%)\"):              # this value is received when the product is out of stock and price isn't displayed\n",
        "        return \"Not Available\"\n",
        "    return price\n",
        "\n",
        "\n",
        "def get_image(soup):\n",
        "    try:\n",
        "        img_div = soup.find(id=\"img-canvas\")\n",
        "        img_str = img_div.img.get('src')\n",
        "    except AttributeError:\n",
        "        img_str = \"\"\n",
        "    return img_str\n",
        "\n",
        "\n",
        "path = os.path.join(sys.path[0], \"Amazon Scraping.xlsx\")        # Getting the path of the script and adding the file name\n",
        "\n",
        "df = pd.read_excel(path)\n",
        "\n",
        "asin = df['Asin'].tolist()              # converting the Asin column of excel sheet to a list\n",
        "country = df['country'].tolist()        # converting the country  column of excel sheet to a list\n",
        "\n",
        "for i in range(0, len(asin)):\n",
        "    if(type(asin[i]) == float or type(asin[i]) == int):\n",
        "        amazon_link = \"https://www.amazon.\" + country[i] + '/dp/' + str(int(asin[i]))\n",
        "    elif(type(asin[i]) == str):\n",
        "        amazon_link = \"https://www.amazon.\" + country[i] + '/dp/' + asin[i]\n",
        "\n",
        "    HEADERS = ({'User-Agent': 'Mozilla/5.0 (X11; Linux x86_64) AppleWebKit/537.36 (KHTML, like Gecko)Chrome/44.0.2403.157 Safari/537.36', 'Accept-Language': 'en-US, en;q=0.5'})\n",
        "    webpage = requests.get(amazon_link, headers=HEADERS)\n",
        "\n",
        "    soup = BeautifulSoup(webpage.content, \"lxml\")\n",
        "\n",
        "    if(webpage.status_code == 404):\n",
        "        print(amazon_link, \"not available\")\n",
        "\n",
        "    else:\n",
        "        title = get_title(soup)\n",
        "        if (title == False):\n",
        "            print(amazon_link, \"not available\")\n",
        "            continue\n",
        "\n",
        "        price = get_price(soup)\n",
        "        img = get_image(soup)\n",
        "\n",
        "        title = title.replace(\"\\'\", \"''\")\n",
        "\n",
        "        data_to_insert = '\\'' + title + '\\'' + ',' + '\\'' + img + '\\'' + ',' + '\\'' + price + '\\''\n",
        "        cursor.execute(\"INSERT INTO amazon_scraped_data (title, image_link, price) VALUES ( %s )\" % (data_to_insert))\n",
        "        cursor.execute(\"commit;\")\n",
        "\n",
        "        dict = {\"Product Title\": title, \"Product Image URL\": img, \"Price of the Product\": price}\n",
        "        \n",
        "        list.append(dict)\n",
        "\n",
        "json_string = json.dumps(list, indent=4)        # creating a json object\n",
        "\n",
        "path = os.path.join(sys.path[0], \"details.json\")\n",
        "with open(path, \"w\") as outfile:                # writing the json object to a file\n",
        "    outfile.write(json_string)\n",
        "\n",
        "end = time.time()           # ending time\n",
        "\n",
        "print(\"Time taken to complete the execution:\", end - start, \"seconds\")"
      ],
      "metadata": {
        "colab": {
          "base_uri": "https://localhost:8080/"
        },
        "id": "SqM6npLwLfjw",
        "outputId": "8d194f47-e2ad-456d-9870-291427880b6a"
      },
      "execution_count": null,
      "outputs": [
        {
          "output_type": "stream",
          "name": "stdout",
          "text": [
            "https://www.amazon.de/dp/1015 not available\n",
            "https://www.amazon.fr/dp/1015 not available\n",
            "https://www.amazon.de/dp/000004458X not available\n",
            "https://www.amazon.fr/dp/000004458X not available\n",
            "https://www.amazon.de/dp/1002198 not available\n",
            "https://www.amazon.fr/dp/1002198 not available\n",
            "https://www.amazon.fr/dp/1002791 not available\n",
            "https://www.amazon.it/dp/1002791 not available\n",
            "https://www.amazon.de/dp/1002864 not available\n",
            "https://www.amazon.fr/dp/1002864 not available\n",
            "https://www.amazon.de/dp/1003704 not available\n",
            "https://www.amazon.fr/dp/1003704 not available\n",
            "https://www.amazon.de/dp/1003763 not available\n",
            "https://www.amazon.fr/dp/1003763 not available\n",
            "https://www.amazon.fr/dp/1004271 not available\n",
            "https://www.amazon.it/dp/1004271 not available\n",
            "https://www.amazon.de/dp/000101742X not available\n",
            "https://www.amazon.fr/dp/000101742X not available\n",
            "https://www.amazon.de/dp/1017519 not available\n",
            "https://www.amazon.fr/dp/1017519 not available\n",
            "https://www.amazon.de/dp/000102163X not available\n",
            "https://www.amazon.fr/dp/000102163X not available\n",
            "https://www.amazon.fr/dp/1022369 not available\n",
            "https://www.amazon.it/dp/1022369 not available\n",
            "https://www.amazon.fr/dp/1022857 not available\n",
            "https://www.amazon.it/dp/1022857 not available\n",
            "https://www.amazon.de/dp/1032666 not available\n",
            "https://www.amazon.fr/dp/1032666 not available\n",
            "https://www.amazon.de/dp/1034677 not available\n",
            "https://www.amazon.fr/dp/1034677 not available\n",
            "https://www.amazon.de/dp/1034936 not available\n",
            "https://www.amazon.fr/dp/1034936 not available\n",
            "https://www.amazon.de/dp/1034944 not available\n",
            "https://www.amazon.fr/dp/1034944 not available\n",
            "https://www.amazon.de/dp/1035002 not available\n",
            "https://www.amazon.fr/dp/1035002 not available\n",
            "https://www.amazon.de/dp/1035029 not available\n",
            "https://www.amazon.fr/dp/1035029 not available\n",
            "https://www.amazon.de/dp/1035053 not available\n",
            "https://www.amazon.es/dp/1035053 not available\n",
            "https://www.amazon.fr/dp/1035053 not available\n",
            "https://www.amazon.de/dp/1035339 not available\n",
            "https://www.amazon.fr/dp/1035339 not available\n",
            "https://www.amazon.de/dp/1036866 not available\n",
            "https://www.amazon.es/dp/1036866 not available\n",
            "https://www.amazon.fr/dp/1036866 not available\n",
            "https://www.amazon.de/dp/1037137 not available\n",
            "https://www.amazon.fr/dp/1037137 not available\n",
            "https://www.amazon.de/dp/1037188 not available\n",
            "https://www.amazon.fr/dp/1037188 not available\n",
            "https://www.amazon.de/dp/1037994 not available\n",
            "https://www.amazon.fr/dp/1037994 not available\n",
            "https://www.amazon.de/dp/000103863X not available\n",
            "https://www.amazon.fr/dp/000103863X not available\n",
            "https://www.amazon.de/dp/1039466 not available\n",
            "https://www.amazon.fr/dp/1039466 not available\n",
            "https://www.amazon.fr/dp/1040871 not available\n",
            "https://www.amazon.it/dp/1040871 not available\n",
            "https://www.amazon.de/dp/1040979 not available\n",
            "https://www.amazon.fr/dp/1040979 not available\n",
            "https://www.amazon.de/dp/1040987 not available\n",
            "https://www.amazon.fr/dp/1040987 not available\n",
            "https://www.amazon.de/dp/1041002 not available\n",
            "https://www.amazon.fr/dp/1041002 not available\n",
            "https://www.amazon.de/dp/1041991 not available\n",
            "https://www.amazon.fr/dp/1041991 not available\n",
            "https://www.amazon.de/dp/000104317X not available\n",
            "https://www.amazon.fr/dp/000104317X not available\n",
            "https://www.amazon.de/dp/1043331 not available\n",
            "https://www.amazon.fr/dp/1043331 not available\n",
            "https://www.amazon.de/dp/000104348X not available\n",
            "https://www.amazon.fr/dp/000104348X not available\n",
            "https://www.amazon.de/dp/1043498 not available\n",
            "https://www.amazon.fr/dp/1043498 not available\n",
            "https://www.amazon.de/dp/1043773 not available\n",
            "https://www.amazon.fr/dp/1043773 not available\n",
            "https://www.amazon.de/dp/000104396X not available\n",
            "https://www.amazon.fr/dp/000104396X not available\n",
            "https://www.amazon.de/dp/1048325 not available\n",
            "https://www.amazon.fr/dp/1048325 not available\n",
            "https://www.amazon.de/dp/1049119 not available\n",
            "https://www.amazon.fr/dp/1049119 not available\n",
            "https://www.amazon.de/dp/1057774 not available\n",
            "https://www.amazon.fr/dp/1057774 not available\n",
            "https://www.amazon.de/dp/1057790 not available\n",
            "https://www.amazon.es/dp/1057790 not available\n",
            "https://www.amazon.fr/dp/1057790 not available\n",
            "https://www.amazon.de/dp/1057812 not available\n",
            "https://www.amazon.es/dp/1057812 not available\n",
            "https://www.amazon.fr/dp/1057812 not available\n",
            "https://www.amazon.de/dp/1057987 not available\n",
            "https://www.amazon.fr/dp/1057987 not available\n",
            "https://www.amazon.de/dp/1059238 not available\n",
            "https://www.amazon.fr/dp/1059238 not available\n",
            "https://www.amazon.de/dp/1060619 not available\n",
            "https://www.amazon.fr/dp/1060619 not available\n",
            "https://www.amazon.de/dp/1060694 not available\n",
            "https://www.amazon.es/dp/1060694 not available\n",
            "https://www.amazon.fr/dp/1060694 not available\n",
            "https://www.amazon.de/dp/1061305 not available\n",
            "https://www.amazon.fr/dp/1061305 not available\n",
            "https://www.amazon.de/dp/1063685 not available\n",
            "https://www.amazon.fr/dp/1063685 not available\n",
            "https://www.amazon.de/dp/1065440 not available\n",
            "https://www.amazon.fr/dp/1065440 not available\n",
            "https://www.amazon.de/dp/1065548 not available\n",
            "https://www.amazon.fr/dp/1065548 not available\n",
            "https://www.amazon.de/dp/1066544 not available\n",
            "https://www.amazon.fr/dp/1066544 not available\n",
            "https://www.amazon.de/dp/1067087 not available\n",
            "https://www.amazon.fr/dp/1067087 not available\n",
            "https://www.amazon.de/dp/1067311 not available\n"
          ]
        }
      ]
    },
    {
      "cell_type": "code",
      "source": [
        "path_to_json_file = \"details.json\"\n",
        "\n",
        "json_file = open(path_to_json_file, 'r')\n",
        "loaded_json = json_file.read()\n",
        "json_file.close()\n",
        "print(loaded_json)"
      ],
      "metadata": {
        "colab": {
          "base_uri": "https://localhost:8080/"
        },
        "id": "9aUoreT_M8E-",
        "outputId": "74f79071-c966-4c0e-fd2f-0b99fabd960b"
      },
      "execution_count": 54,
      "outputs": [
        {
          "output_type": "stream",
          "name": "stdout",
          "text": [
            "[\n",
            "    {\n",
            "        \"Product Title\": \"Spielbuch orchestre\",\n",
            "        \"Product Image URL\": \"https://images-eu.ssl-images-amazon.com/images/I/61OVNlClEDL._SX218_BO1,204,203,200_QL40_ML2_.jpg\",\n",
            "        \"Price of the Product\": \"40,80\\u00a0\\u20ac\"\n",
            "    },\n",
            "    {\n",
            "        \"Product Title\": \"Arien(2) (grand macabre) 2e akte\",\n",
            "        \"Product Image URL\": \"https://images-eu.ssl-images-amazon.com/images/I/41usGis9EJL._SX198_BO1,204,203,200_QL40_ML2_.jpg\",\n",
            "        \"Price of the Product\": \"Not Available\"\n",
            "    },\n",
            "    {\n",
            "        \"Product Title\": \"Fantasie c piano\",\n",
            "        \"Product Image URL\": \"https://images-eu.ssl-images-amazon.com/images/I/41qQkCHj52L._SX198_BO1,204,203,200_QL40_ML2_.jpg\",\n",
            "        \"Price of the Product\": \"9,03\\u00a0\\u20ac\"\n",
            "    },\n",
            "    {\n",
            "        \"Product Title\": \"2 leichte Divertimenti f\\u00fcr Violine (Oboe) Cello (Fagott) und Klavier - Es-dur KV 252 (240a) und B-dur KV 240 - Bearbeitung (EB 3810)\",\n",
            "        \"Product Image URL\": \"https://images-eu.ssl-images-amazon.com/images/I/41H73ri0GDL._SY264_BO1,204,203,200_QL40_ML2_.jpg\",\n",
            "        \"Price of the Product\": \"22,37\\u00a0\\u20ac\"\n",
            "    },\n",
            "    {\n",
            "        \"Product Title\": \"Chaconne aus der Partita II d-moll BWV 1004 Bearbeitung f\\u00fcr Cembalo (EB 6594)\",\n",
            "        \"Product Image URL\": \"https://images-eu.ssl-images-amazon.com/images/I/41lrIDbi75L._SY264_BO1,204,203,200_QL40_ML2_.jpg\",\n",
            "        \"Price of the Product\": \"13,93\\u00a0\\u20ac\"\n",
            "    }\n",
            "]\n"
          ]
        }
      ]
    },
    {
      "cell_type": "code",
      "source": [
        "from google.colab import files\n",
        "files.download(\"details.json\")"
      ],
      "metadata": {
        "colab": {
          "base_uri": "https://localhost:8080/",
          "height": 17
        },
        "id": "xW0nkJ_XDQPG",
        "outputId": "9a9eac75-7786-4b10-ec4d-1b1932aee9bc"
      },
      "execution_count": 55,
      "outputs": [
        {
          "output_type": "display_data",
          "data": {
            "text/plain": [
              "<IPython.core.display.Javascript object>"
            ],
            "application/javascript": [
              "\n",
              "    async function download(id, filename, size) {\n",
              "      if (!google.colab.kernel.accessAllowed) {\n",
              "        return;\n",
              "      }\n",
              "      const div = document.createElement('div');\n",
              "      const label = document.createElement('label');\n",
              "      label.textContent = `Downloading \"${filename}\": `;\n",
              "      div.appendChild(label);\n",
              "      const progress = document.createElement('progress');\n",
              "      progress.max = size;\n",
              "      div.appendChild(progress);\n",
              "      document.body.appendChild(div);\n",
              "\n",
              "      const buffers = [];\n",
              "      let downloaded = 0;\n",
              "\n",
              "      const channel = await google.colab.kernel.comms.open(id);\n",
              "      // Send a message to notify the kernel that we're ready.\n",
              "      channel.send({})\n",
              "\n",
              "      for await (const message of channel.messages) {\n",
              "        // Send a message to notify the kernel that we're ready.\n",
              "        channel.send({})\n",
              "        if (message.buffers) {\n",
              "          for (const buffer of message.buffers) {\n",
              "            buffers.push(buffer);\n",
              "            downloaded += buffer.byteLength;\n",
              "            progress.value = downloaded;\n",
              "          }\n",
              "        }\n",
              "      }\n",
              "      const blob = new Blob(buffers, {type: 'application/binary'});\n",
              "      const a = document.createElement('a');\n",
              "      a.href = window.URL.createObjectURL(blob);\n",
              "      a.download = filename;\n",
              "      div.appendChild(a);\n",
              "      a.click();\n",
              "      div.remove();\n",
              "    }\n",
              "  "
            ]
          },
          "metadata": {}
        },
        {
          "output_type": "display_data",
          "data": {
            "text/plain": [
              "<IPython.core.display.Javascript object>"
            ],
            "application/javascript": [
              "download(\"download_d08f6854-8a5d-4218-a263-424071187166\", \"details.json\", 1403)"
            ]
          },
          "metadata": {}
        }
      ]
    }
  ]
}